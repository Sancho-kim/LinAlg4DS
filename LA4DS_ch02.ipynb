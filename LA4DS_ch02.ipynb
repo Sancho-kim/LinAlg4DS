{
 "nbformat": 4,
 "nbformat_minor": 0,
 "metadata": {
  "colab": {
   "provenance": [],
   "authorship_tag": "ABX9TyNp75EgKJZFJ+MNi5oG062k"
  },
  "kernelspec": {
   "name": "python3",
   "display_name": "Python 3"
  },
  "language_info": {
   "name": "python"
  }
 },
 "cells": [
  {
   "cell_type": "markdown",
   "source": [
    "# Practical Linear Algebra for Data Science\n",
    "## Mike X Cohen (sincxpress.com)\n",
    "### https://www.oreilly.com/library/view/practical-linear-algebra/9781098120603/\n",
    "\n",
    "#### Code for chapter 2"
   ],
   "metadata": {
    "id": "SbGFWGzkd44U"
   }
  },
  {
   "cell_type": "code",
   "source": [
    "import numpy as np\n",
    "import matplotlib.pyplot as plt\n",
    "\n",
    "# NOTE: these lines define global figure properties used for publication.\n",
    "import matplotlib_inline.backend_inline\n",
    "matplotlib_inline.backend_inline.set_matplotlib_formats('svg') # print figures in svg format\n",
    "plt.rcParams.update({'font.size':14}) # set global font size"
   ],
   "metadata": {
    "id": "k_8g1MZidFJK",
    "executionInfo": {
     "status": "ok",
     "timestamp": 1676509948636,
     "user_tz": -540,
     "elapsed": 4,
     "user": {
      "displayName": "Mike X Cohen",
      "userId": "13901636194183843661"
     }
    }
   },
   "execution_count": 1,
   "outputs": []
  },
  {
   "cell_type": "code",
   "source": [],
   "metadata": {
    "id": "S3MfM6SZWlW1"
   },
   "execution_count": null,
   "outputs": []
  },
  {
   "cell_type": "markdown",
   "source": [
    "# Linear weighted combinations"
   ],
   "metadata": {
    "id": "OzKK07ak0CBp"
   }
  },
  {
   "cell_type": "code",
   "source": [
    "# the scalars\n",
    "l1 = 1\n",
    "l2 = 2\n",
    "l3 = -3\n",
    "\n",
    "# the vectors\n",
    "v1 = np.array([4,5,1])\n",
    "v2 = np.array([-4,0,-4])\n",
    "v3 = np.array([1,3,2])\n",
    "\n",
    "# linear weighted combination\n",
    "l1*v1 + l2*v2 + l3*v3"
   ],
   "metadata": {
    "id": "l8E6A7Lv0CEb"
   },
   "execution_count": null,
   "outputs": []
  },
  {
   "cell_type": "code",
   "source": [],
   "metadata": {
    "id": "XIgW89gA0CHA"
   },
   "execution_count": null,
   "outputs": []
  },
  {
   "cell_type": "markdown",
   "source": [
    "# Basis vectors and points"
   ],
   "metadata": {
    "id": "8KQKiXGFe5nq"
   }
  },
  {
   "cell_type": "code",
   "source": [
    "\n",
    "# points (in Cartesian coordinates)\n",
    "p = (3,1)\n",
    "q = (-6,2)\n",
    "\n",
    "plt.figure(figsize=(6,6))\n",
    "\n",
    "# draw points\n",
    "plt.plot(p[0],p[1],'ko',markerfacecolor='k',markersize=10,label='Point p')\n",
    "plt.plot(q[0],q[1],'ks',markerfacecolor='k',markersize=10,label='Point q')\n",
    "\n",
    "# draw basis vectors\n",
    "plt.plot([0,0],[0,1],'k',linewidth=3,label='Basis S')\n",
    "plt.plot([0,1],[0,0],'k',linewidth=3)\n",
    "\n",
    "plt.plot([0,3],[0,1],'k--',linewidth=3,label='Basis T')\n",
    "plt.plot([0,-3],[0,1],'k--',linewidth=3)\n",
    "\n",
    "\n",
    "plt.axis('square')\n",
    "plt.grid(linestyle='--',color=[.8,.8,.8])\n",
    "plt.xlim([-7,7])\n",
    "plt.ylim([-7,7])\n",
    "plt.legend()\n",
    "plt.savefig('Figure_02_04.png',dpi=300)\n",
    "plt.show()"
   ],
   "metadata": {
    "id": "ZGmivlIBdHTr"
   },
   "execution_count": null,
   "outputs": []
  },
  {
   "cell_type": "code",
   "source": [],
   "metadata": {
    "id": "A0lt_itadHXC"
   },
   "execution_count": null,
   "outputs": []
  },
  {
   "cell_type": "markdown",
   "source": [
    "# Exercises"
   ],
   "metadata": {
    "id": "m3p0sJfGYJEC"
   }
  },
  {
   "cell_type": "markdown",
   "source": [
    "# Exercise 1"
   ],
   "metadata": {
    "id": "dPpXof4wYgcM"
   }
  },
  {
   "cell_type": "code",
   "source": [
    "## Note: Make sure you run the code earlier to create variables l1, l2, etc.\n",
    "\n",
    "# organized into lists\n",
    "scalars = [ l1,l2,l3 ]\n",
    "vectors = [ v1,v2,v3 ]\n",
    "\n",
    "# initialize the linear combination\n",
    "linCombo = np.zeros(len(v1))\n",
    "\n",
    "# implement linear weighted combination using zip()\n",
    "for s,v in zip(scalars,vectors):\n",
    "  linCombo += s*v\n",
    "\n",
    "# confirm it's the same answer as above\n",
    "linCombo"
   ],
   "metadata": {
    "id": "2YX1MnwPRA9w"
   },
   "execution_count": null,
   "outputs": []
  },
  {
   "cell_type": "code",
   "source": [],
   "metadata": {
    "id": "oko9ARd3Yhi8"
   },
   "execution_count": null,
   "outputs": []
  },
  {
   "cell_type": "markdown",
   "source": [
    "# Exercise 2"
   ],
   "metadata": {
    "id": "gaDegzriYJHQ"
   }
  },
  {
   "cell_type": "code",
   "source": [
    "# Whether it works or throws an error depends on how you set up the code.\n",
    "# Using zip() as above works, because zip() will use only the minimum-matching items.\n",
    "# Re-writing the code using indexing will cause an error, as in the code below.\n",
    "\n",
    "# make the scalars longer\n",
    "scalars = [ l1,l2,l3,5 ]\n",
    "vectors = [ v1,v2,v3 ]\n",
    "\n",
    "linCombo = np.zeros(len(v1))\n",
    "\n",
    "for i in range(len(scalars)):\n",
    "  linCombo += scalars[i]*vectors[i]"
   ],
   "metadata": {
    "id": "dxEDtY-VZEGW"
   },
   "execution_count": null,
   "outputs": []
  },
  {
   "cell_type": "code",
   "source": [],
   "metadata": {
    "id": "zcphFAUCYJN2"
   },
   "execution_count": null,
   "outputs": []
  },
  {
   "cell_type": "markdown",
   "source": [
    "# Exercise 3"
   ],
   "metadata": {
    "id": "RMG1ofpwuPBj"
   }
  },
  {
   "cell_type": "code",
   "source": [
    "# the vector set (just one vector)\n",
    "A  = np.array([ 1,3 ])\n",
    "\n",
    "# x-axis range\n",
    "xlim = [-4,4]\n",
    "\n",
    "# random scalars in that range\n",
    "scalars = np.random.uniform(low=xlim[0],high=xlim[1],size=100)\n",
    "\n",
    "\n",
    "\n",
    "# create a figure, etc\n",
    "plt.figure(figsize=(6,6))\n",
    "\n",
    "# loop over the random scalars\n",
    "for s in scalars:\n",
    "\n",
    "  # create point p\n",
    "  p = A*s\n",
    "\n",
    "  # plot it\n",
    "  plt.plot(p[0],p[1],'ko')\n",
    "\n",
    "\n",
    "plt.xlim(xlim)\n",
    "plt.ylim(xlim)\n",
    "plt.grid()\n",
    "plt.text(-4.5,4.5,'A)',fontweight='bold',fontsize=18)\n",
    "plt.savefig('Figure_02_07a.png',dpi=300)\n",
    "plt.show()"
   ],
   "metadata": {
    "id": "yFBpjwwjuRfP",
    "colab": {
     "base_uri": "https://localhost:8080/",
     "height": 548
    },
    "executionInfo": {
     "status": "ok",
     "timestamp": 1676509962295,
     "user_tz": -540,
     "elapsed": 3134,
     "user": {
      "displayName": "Mike X Cohen",
      "userId": "13901636194183843661"
     }
    },
    "outputId": "c0d177c0-4041-42f1-9a8c-8edde24d524c"
   },
   "execution_count": 3,
   "outputs": [
    {
     "output_type": "display_data",
     "data": {
      "text/plain": [
       "<Figure size 432x432 with 1 Axes>"
      ],
      "image/svg+xml": "<?xml version=\"1.0\" encoding=\"utf-8\" standalone=\"no\"?>\n<!DOCTYPE svg PUBLIC \"-//W3C//DTD SVG 1.1//EN\"\n  \"http://www.w3.org/Graphics/SVG/1.1/DTD/svg11.dtd\">\n<!-- Created with matplotlib (https://matplotlib.org/) -->\n<svg height=\"395.171562pt\" version=\"1.1\" viewBox=\"0 0 381.292812 395.171562\" width=\"381.292812pt\" xmlns=\"http://www.w3.org/2000/svg\" xmlns:xlink=\"http://www.w3.org/1999/xlink\">\n <defs>\n  <style type=\"text/css\">\n*{stroke-linecap:butt;stroke-linejoin:round;}\n  </style>\n </defs>\n <g id=\"figure_1\">\n  <g id=\"patch_1\">\n   <path d=\"M 0 395.171562 \nL 381.292812 395.171562 \nL 381.292812 0 \nL 0 0 \nz\n\" style=\"fill:none;\"/>\n  </g>\n  <g id=\"axes_1\">\n   <g id=\"patch_2\">\n    <path d=\"M 34.839063 367.422187 \nL 369.639063 367.422187 \nL 369.639063 41.262187 \nL 34.839063 41.262187 \nz\n\" style=\"fill:#ffffff;\"/>\n   </g>\n   <g id=\"matplotlib.axis_1\">\n    <g id=\"xtick_1\">\n     <g id=\"line2d_1\">\n      <path clip-path=\"url(#p44138d8292)\" d=\"M 34.839063 367.422187 \nL 34.839063 41.262187 \n\" style=\"fill:none;stroke:#b0b0b0;stroke-linecap:square;stroke-width:0.8;\"/>\n     </g>\n     <g id=\"line2d_2\">\n      <defs>\n       <path d=\"M 0 0 \nL 0 3.5 \n\" id=\"m3feb6a77fe\" style=\"stroke:#000000;stroke-width:0.8;\"/>\n      </defs>\n      <g>\n       <use style=\"stroke:#000000;stroke-width:0.8;\" x=\"34.839063\" xlink:href=\"#m3feb6a77fe\" y=\"367.422187\"/>\n      </g>\n     </g>\n     <g id=\"text_1\">\n      <!-- \u22124 -->\n      <defs>\n       <path d=\"M 10.59375 35.5 \nL 73.1875 35.5 \nL 73.1875 27.203125 \nL 10.59375 27.203125 \nz\n\" id=\"DejaVuSans-8722\"/>\n       <path d=\"M 37.796875 64.3125 \nL 12.890625 25.390625 \nL 37.796875 25.390625 \nz\nM 35.203125 72.90625 \nL 47.609375 72.90625 \nL 47.609375 25.390625 \nL 58.015625 25.390625 \nL 58.015625 17.1875 \nL 47.609375 17.1875 \nL 47.609375 0 \nL 37.796875 0 \nL 37.796875 17.1875 \nL 4.890625 17.1875 \nL 4.890625 26.703125 \nz\n\" id=\"DejaVuSans-52\"/>\n      </defs>\n      <g transform=\"translate(24.519531 385.06)scale(0.14 -0.14)\">\n       <use xlink:href=\"#DejaVuSans-8722\"/>\n       <use x=\"83.789062\" xlink:href=\"#DejaVuSans-52\"/>\n      </g>\n     </g>\n    </g>\n    <g id=\"xtick_2\">\n     <g id=\"line2d_3\">\n      <path clip-path=\"url(#p44138d8292)\" d=\"M 118.539063 367.422187 \nL 118.539063 41.262187 \n\" style=\"fill:none;stroke:#b0b0b0;stroke-linecap:square;stroke-width:0.8;\"/>\n     </g>\n     <g id=\"line2d_4\">\n      <g>\n       <use style=\"stroke:#000000;stroke-width:0.8;\" x=\"118.539063\" xlink:href=\"#m3feb6a77fe\" y=\"367.422187\"/>\n      </g>\n     </g>\n     <g id=\"text_2\">\n      <!-- \u22122 -->\n      <defs>\n       <path d=\"M 19.1875 8.296875 \nL 53.609375 8.296875 \nL 53.609375 0 \nL 7.328125 0 \nL 7.328125 8.296875 \nQ 12.9375 14.109375 22.625 23.890625 \nQ 32.328125 33.6875 34.8125 36.53125 \nQ 39.546875 41.84375 41.421875 45.53125 \nQ 43.3125 49.21875 43.3125 52.78125 \nQ 43.3125 58.59375 39.234375 62.25 \nQ 35.15625 65.921875 28.609375 65.921875 \nQ 23.96875 65.921875 18.8125 64.3125 \nQ 13.671875 62.703125 7.8125 59.421875 \nL 7.8125 69.390625 \nQ 13.765625 71.78125 18.9375 73 \nQ 24.125 74.21875 28.421875 74.21875 \nQ 39.75 74.21875 46.484375 68.546875 \nQ 53.21875 62.890625 53.21875 53.421875 \nQ 53.21875 48.921875 51.53125 44.890625 \nQ 49.859375 40.875 45.40625 35.40625 \nQ 44.1875 33.984375 37.640625 27.21875 \nQ 31.109375 20.453125 19.1875 8.296875 \nz\n\" id=\"DejaVuSans-50\"/>\n      </defs>\n      <g transform=\"translate(108.219531 385.06)scale(0.14 -0.14)\">\n       <use xlink:href=\"#DejaVuSans-8722\"/>\n       <use x=\"83.789062\" xlink:href=\"#DejaVuSans-50\"/>\n      </g>\n     </g>\n    </g>\n    <g id=\"xtick_3\">\n     <g id=\"line2d_5\">\n      <path clip-path=\"url(#p44138d8292)\" d=\"M 202.239063 367.422187 \nL 202.239063 41.262187 \n\" style=\"fill:none;stroke:#b0b0b0;stroke-linecap:square;stroke-width:0.8;\"/>\n     </g>\n     <g id=\"line2d_6\">\n      <g>\n       <use style=\"stroke:#000000;stroke-width:0.8;\" x=\"202.239063\" xlink:href=\"#m3feb6a77fe\" y=\"367.422187\"/>\n      </g>\n     </g>\n     <g id=\"text_3\">\n      <!-- 0 -->\n      <defs>\n       <path d=\"M 31.78125 66.40625 \nQ 24.171875 66.40625 20.328125 58.90625 \nQ 16.5 51.421875 16.5 36.375 \nQ 16.5 21.390625 20.328125 13.890625 \nQ 24.171875 6.390625 31.78125 6.390625 \nQ 39.453125 6.390625 43.28125 13.890625 \nQ 47.125 21.390625 47.125 36.375 \nQ 47.125 51.421875 43.28125 58.90625 \nQ 39.453125 66.40625 31.78125 66.40625 \nz\nM 31.78125 74.21875 \nQ 44.046875 74.21875 50.515625 64.515625 \nQ 56.984375 54.828125 56.984375 36.375 \nQ 56.984375 17.96875 50.515625 8.265625 \nQ 44.046875 -1.421875 31.78125 -1.421875 \nQ 19.53125 -1.421875 13.0625 8.265625 \nQ 6.59375 17.96875 6.59375 36.375 \nQ 6.59375 54.828125 13.0625 64.515625 \nQ 19.53125 74.21875 31.78125 74.21875 \nz\n\" id=\"DejaVuSans-48\"/>\n      </defs>\n      <g transform=\"translate(197.785313 385.06)scale(0.14 -0.14)\">\n       <use xlink:href=\"#DejaVuSans-48\"/>\n      </g>\n     </g>\n    </g>\n    <g id=\"xtick_4\">\n     <g id=\"line2d_7\">\n      <path clip-path=\"url(#p44138d8292)\" d=\"M 285.939063 367.422187 \nL 285.939063 41.262187 \n\" style=\"fill:none;stroke:#b0b0b0;stroke-linecap:square;stroke-width:0.8;\"/>\n     </g>\n     <g id=\"line2d_8\">\n      <g>\n       <use style=\"stroke:#000000;stroke-width:0.8;\" x=\"285.939063\" xlink:href=\"#m3feb6a77fe\" y=\"367.422187\"/>\n      </g>\n     </g>\n     <g id=\"text_4\">\n      <!-- 2 -->\n      <g transform=\"translate(281.485313 385.06)scale(0.14 -0.14)\">\n       <use xlink:href=\"#DejaVuSans-50\"/>\n      </g>\n     </g>\n    </g>\n    <g id=\"xtick_5\">\n     <g id=\"line2d_9\">\n      <path clip-path=\"url(#p44138d8292)\" d=\"M 369.639063 367.422187 \nL 369.639063 41.262187 \n\" style=\"fill:none;stroke:#b0b0b0;stroke-linecap:square;stroke-width:0.8;\"/>\n     </g>\n     <g id=\"line2d_10\">\n      <g>\n       <use style=\"stroke:#000000;stroke-width:0.8;\" x=\"369.639063\" xlink:href=\"#m3feb6a77fe\" y=\"367.422187\"/>\n      </g>\n     </g>\n     <g id=\"text_5\">\n      <!-- 4 -->\n      <g transform=\"translate(365.185313 385.06)scale(0.14 -0.14)\">\n       <use xlink:href=\"#DejaVuSans-52\"/>\n      </g>\n     </g>\n    </g>\n   </g>\n   <g id=\"matplotlib.axis_2\">\n    <g id=\"ytick_1\">\n     <g id=\"line2d_11\">\n      <path clip-path=\"url(#p44138d8292)\" d=\"M 34.839063 367.422187 \nL 369.639063 367.422187 \n\" style=\"fill:none;stroke:#b0b0b0;stroke-linecap:square;stroke-width:0.8;\"/>\n     </g>\n     <g id=\"line2d_12\">\n      <defs>\n       <path d=\"M 0 0 \nL -3.5 0 \n\" id=\"m588b3ac405\" style=\"stroke:#000000;stroke-width:0.8;\"/>\n      </defs>\n      <g>\n       <use style=\"stroke:#000000;stroke-width:0.8;\" x=\"34.839063\" xlink:href=\"#m588b3ac405\" y=\"367.422187\"/>\n      </g>\n     </g>\n     <g id=\"text_6\">\n      <!-- \u22124 -->\n      <g transform=\"translate(7.2 372.741094)scale(0.14 -0.14)\">\n       <use xlink:href=\"#DejaVuSans-8722\"/>\n       <use x=\"83.789062\" xlink:href=\"#DejaVuSans-52\"/>\n      </g>\n     </g>\n    </g>\n    <g id=\"ytick_2\">\n     <g id=\"line2d_13\">\n      <path clip-path=\"url(#p44138d8292)\" d=\"M 34.839063 326.652187 \nL 369.639063 326.652187 \n\" style=\"fill:none;stroke:#b0b0b0;stroke-linecap:square;stroke-width:0.8;\"/>\n     </g>\n     <g id=\"line2d_14\">\n      <g>\n       <use style=\"stroke:#000000;stroke-width:0.8;\" x=\"34.839063\" xlink:href=\"#m588b3ac405\" y=\"326.652187\"/>\n      </g>\n     </g>\n     <g id=\"text_7\">\n      <!-- \u22123 -->\n      <defs>\n       <path d=\"M 40.578125 39.3125 \nQ 47.65625 37.796875 51.625 33 \nQ 55.609375 28.21875 55.609375 21.1875 \nQ 55.609375 10.40625 48.1875 4.484375 \nQ 40.765625 -1.421875 27.09375 -1.421875 \nQ 22.515625 -1.421875 17.65625 -0.515625 \nQ 12.796875 0.390625 7.625 2.203125 \nL 7.625 11.71875 \nQ 11.71875 9.328125 16.59375 8.109375 \nQ 21.484375 6.890625 26.8125 6.890625 \nQ 36.078125 6.890625 40.9375 10.546875 \nQ 45.796875 14.203125 45.796875 21.1875 \nQ 45.796875 27.640625 41.28125 31.265625 \nQ 36.765625 34.90625 28.71875 34.90625 \nL 20.21875 34.90625 \nL 20.21875 43.015625 \nL 29.109375 43.015625 \nQ 36.375 43.015625 40.234375 45.921875 \nQ 44.09375 48.828125 44.09375 54.296875 \nQ 44.09375 59.90625 40.109375 62.90625 \nQ 36.140625 65.921875 28.71875 65.921875 \nQ 24.65625 65.921875 20.015625 65.03125 \nQ 15.375 64.15625 9.8125 62.3125 \nL 9.8125 71.09375 \nQ 15.4375 72.65625 20.34375 73.4375 \nQ 25.25 74.21875 29.59375 74.21875 \nQ 40.828125 74.21875 47.359375 69.109375 \nQ 53.90625 64.015625 53.90625 55.328125 \nQ 53.90625 49.265625 50.4375 45.09375 \nQ 46.96875 40.921875 40.578125 39.3125 \nz\n\" id=\"DejaVuSans-51\"/>\n      </defs>\n      <g transform=\"translate(7.2 331.971094)scale(0.14 -0.14)\">\n       <use xlink:href=\"#DejaVuSans-8722\"/>\n       <use x=\"83.789062\" xlink:href=\"#DejaVuSans-51\"/>\n      </g>\n     </g>\n    </g>\n    <g id=\"ytick_3\">\n     <g id=\"line2d_15\">\n      <path clip-path=\"url(#p44138d8292)\" d=\"M 34.839063 285.882187 \nL 369.639063 285.882187 \n\" style=\"fill:none;stroke:#b0b0b0;stroke-linecap:square;stroke-width:0.8;\"/>\n     </g>\n     <g id=\"line2d_16\">\n      <g>\n       <use style=\"stroke:#000000;stroke-width:0.8;\" x=\"34.839063\" xlink:href=\"#m588b3ac405\" y=\"285.882187\"/>\n      </g>\n     </g>\n     <g id=\"text_8\">\n      <!-- \u22122 -->\n      <g transform=\"translate(7.2 291.201094)scale(0.14 -0.14)\">\n       <use xlink:href=\"#DejaVuSans-8722\"/>\n       <use x=\"83.789062\" xlink:href=\"#DejaVuSans-50\"/>\n      </g>\n     </g>\n    </g>\n    <g id=\"ytick_4\">\n     <g id=\"line2d_17\">\n      <path clip-path=\"url(#p44138d8292)\" d=\"M 34.839063 245.112187 \nL 369.639063 245.112187 \n\" style=\"fill:none;stroke:#b0b0b0;stroke-linecap:square;stroke-width:0.8;\"/>\n     </g>\n     <g id=\"line2d_18\">\n      <g>\n       <use style=\"stroke:#000000;stroke-width:0.8;\" x=\"34.839063\" xlink:href=\"#m588b3ac405\" y=\"245.112187\"/>\n      </g>\n     </g>\n     <g id=\"text_9\">\n      <!-- \u22121 -->\n      <defs>\n       <path d=\"M 12.40625 8.296875 \nL 28.515625 8.296875 \nL 28.515625 63.921875 \nL 10.984375 60.40625 \nL 10.984375 69.390625 \nL 28.421875 72.90625 \nL 38.28125 72.90625 \nL 38.28125 8.296875 \nL 54.390625 8.296875 \nL 54.390625 0 \nL 12.40625 0 \nz\n\" id=\"DejaVuSans-49\"/>\n      </defs>\n      <g transform=\"translate(7.2 250.431094)scale(0.14 -0.14)\">\n       <use xlink:href=\"#DejaVuSans-8722\"/>\n       <use x=\"83.789062\" xlink:href=\"#DejaVuSans-49\"/>\n      </g>\n     </g>\n    </g>\n    <g id=\"ytick_5\">\n     <g id=\"line2d_19\">\n      <path clip-path=\"url(#p44138d8292)\" d=\"M 34.839063 204.342187 \nL 369.639063 204.342187 \n\" style=\"fill:none;stroke:#b0b0b0;stroke-linecap:square;stroke-width:0.8;\"/>\n     </g>\n     <g id=\"line2d_20\">\n      <g>\n       <use style=\"stroke:#000000;stroke-width:0.8;\" x=\"34.839063\" xlink:href=\"#m588b3ac405\" y=\"204.342187\"/>\n      </g>\n     </g>\n     <g id=\"text_10\">\n      <!-- 0 -->\n      <g transform=\"translate(18.931563 209.661094)scale(0.14 -0.14)\">\n       <use xlink:href=\"#DejaVuSans-48\"/>\n      </g>\n     </g>\n    </g>\n    <g id=\"ytick_6\">\n     <g id=\"line2d_21\">\n      <path clip-path=\"url(#p44138d8292)\" d=\"M 34.839063 163.572187 \nL 369.639063 163.572187 \n\" style=\"fill:none;stroke:#b0b0b0;stroke-linecap:square;stroke-width:0.8;\"/>\n     </g>\n     <g id=\"line2d_22\">\n      <g>\n       <use style=\"stroke:#000000;stroke-width:0.8;\" x=\"34.839063\" xlink:href=\"#m588b3ac405\" y=\"163.572187\"/>\n      </g>\n     </g>\n     <g id=\"text_11\">\n      <!-- 1 -->\n      <g transform=\"translate(18.931563 168.891094)scale(0.14 -0.14)\">\n       <use xlink:href=\"#DejaVuSans-49\"/>\n      </g>\n     </g>\n    </g>\n    <g id=\"ytick_7\">\n     <g id=\"line2d_23\">\n      <path clip-path=\"url(#p44138d8292)\" d=\"M 34.839063 122.802187 \nL 369.639063 122.802187 \n\" style=\"fill:none;stroke:#b0b0b0;stroke-linecap:square;stroke-width:0.8;\"/>\n     </g>\n     <g id=\"line2d_24\">\n      <g>\n       <use style=\"stroke:#000000;stroke-width:0.8;\" x=\"34.839063\" xlink:href=\"#m588b3ac405\" y=\"122.802187\"/>\n      </g>\n     </g>\n     <g id=\"text_12\">\n      <!-- 2 -->\n      <g transform=\"translate(18.931563 128.121094)scale(0.14 -0.14)\">\n       <use xlink:href=\"#DejaVuSans-50\"/>\n      </g>\n     </g>\n    </g>\n    <g id=\"ytick_8\">\n     <g id=\"line2d_25\">\n      <path clip-path=\"url(#p44138d8292)\" d=\"M 34.839063 82.032187 \nL 369.639063 82.032187 \n\" style=\"fill:none;stroke:#b0b0b0;stroke-linecap:square;stroke-width:0.8;\"/>\n     </g>\n     <g id=\"line2d_26\">\n      <g>\n       <use style=\"stroke:#000000;stroke-width:0.8;\" x=\"34.839063\" xlink:href=\"#m588b3ac405\" y=\"82.032187\"/>\n      </g>\n     </g>\n     <g id=\"text_13\">\n      <!-- 3 -->\n      <g transform=\"translate(18.931563 87.351094)scale(0.14 -0.14)\">\n       <use xlink:href=\"#DejaVuSans-51\"/>\n      </g>\n     </g>\n    </g>\n    <g id=\"ytick_9\">\n     <g id=\"line2d_27\">\n      <path clip-path=\"url(#p44138d8292)\" d=\"M 34.839063 41.262187 \nL 369.639063 41.262187 \n\" style=\"fill:none;stroke:#b0b0b0;stroke-linecap:square;stroke-width:0.8;\"/>\n     </g>\n     <g id=\"line2d_28\">\n      <g>\n       <use style=\"stroke:#000000;stroke-width:0.8;\" x=\"34.839063\" xlink:href=\"#m588b3ac405\" y=\"41.262187\"/>\n      </g>\n     </g>\n     <g id=\"text_14\">\n      <!-- 4 -->\n      <g transform=\"translate(18.931563 46.581094)scale(0.14 -0.14)\">\n       <use xlink:href=\"#DejaVuSans-52\"/>\n      </g>\n     </g>\n    </g>\n   </g>\n   <g id=\"line2d_29\">\n    <defs>\n     <path d=\"M 0 3 \nC 0.795609 3 1.55874 2.683901 2.12132 2.12132 \nC 2.683901 1.55874 3 0.795609 3 0 \nC 3 -0.795609 2.683901 -1.55874 2.12132 -2.12132 \nC 1.55874 -2.683901 0.795609 -3 0 -3 \nC -0.795609 -3 -1.55874 -2.683901 -2.12132 -2.12132 \nC -2.683901 -1.55874 -3 -0.795609 -3 0 \nC -3 0.795609 -2.683901 1.55874 -2.12132 2.12132 \nC -1.55874 2.683901 -0.795609 3 0 3 \nz\n\" id=\"ma9f7aeeb30\" style=\"stroke:#000000;\"/>\n    </defs>\n    <g clip-path=\"url(#p44138d8292)\">\n     <use style=\"stroke:#000000;\" x=\"256.637617\" xlink:href=\"#ma9f7aeeb30\" y=\"45.358024\"/>\n    </g>\n   </g>\n   <g id=\"line2d_30\">\n    <g clip-path=\"url(#p44138d8292)\">\n     <use style=\"stroke:#000000;\" x=\"242.513061\" xlink:href=\"#ma9f7aeeb30\" y=\"86.63818\"/>\n    </g>\n   </g>\n   <g id=\"line2d_31\">\n    <g clip-path=\"url(#p44138d8292)\">\n     <use style=\"stroke:#000000;\" x=\"170.853728\" xlink:href=\"#ma9f7aeeb30\" y=\"296.068358\"/>\n    </g>\n   </g>\n   <g id=\"line2d_32\">\n    <g clip-path=\"url(#p44138d8292)\">\n     <use style=\"stroke:#000000;\" x=\"170.648731\" xlink:href=\"#ma9f7aeeb30\" y=\"296.667479\"/>\n    </g>\n   </g>\n   <g id=\"line2d_33\">\n    <g clip-path=\"url(#p44138d8292)\">\n     <use style=\"stroke:#000000;\" x=\"112.501593\" xlink:href=\"#ma9f7aeeb30\" y=\"466.60718\"/>\n    </g>\n   </g>\n   <g id=\"line2d_34\">\n    <g clip-path=\"url(#p44138d8292)\">\n     <use style=\"stroke:#000000;\" x=\"246.307448\" xlink:href=\"#ma9f7aeeb30\" y=\"75.548777\"/>\n    </g>\n   </g>\n   <g id=\"line2d_35\">\n    <g clip-path=\"url(#p44138d8292)\">\n     <use style=\"stroke:#000000;\" x=\"173.660499\" xlink:href=\"#ma9f7aeeb30\" y=\"287.865344\"/>\n    </g>\n   </g>\n   <g id=\"line2d_36\">\n    <g clip-path=\"url(#p44138d8292)\"/>\n   </g>\n   <g id=\"line2d_37\">\n    <g clip-path=\"url(#p44138d8292)\">\n     <use style=\"stroke:#000000;\" x=\"61.967496\" xlink:href=\"#ma9f7aeeb30\" y=\"614.297154\"/>\n    </g>\n   </g>\n   <g id=\"line2d_38\">\n    <g clip-path=\"url(#p44138d8292)\">\n     <use style=\"stroke:#000000;\" x=\"223.639804\" xlink:href=\"#ma9f7aeeb30\" y=\"141.796794\"/>\n    </g>\n   </g>\n   <g id=\"line2d_39\">\n    <g clip-path=\"url(#p44138d8292)\">\n     <use style=\"stroke:#000000;\" x=\"217.880839\" xlink:href=\"#ma9f7aeeb30\" y=\"158.627836\"/>\n    </g>\n   </g>\n   <g id=\"line2d_40\">\n    <g clip-path=\"url(#p44138d8292)\"/>\n   </g>\n   <g id=\"line2d_41\">\n    <g clip-path=\"url(#p44138d8292)\">\n     <use style=\"stroke:#000000;\" x=\"200.359268\" xlink:href=\"#ma9f7aeeb30\" y=\"209.836038\"/>\n    </g>\n   </g>\n   <g id=\"line2d_42\">\n    <g clip-path=\"url(#p44138d8292)\">\n     <use style=\"stroke:#000000;\" x=\"52.514842\" xlink:href=\"#ma9f7aeeb30\" y=\"641.923297\"/>\n    </g>\n   </g>\n   <g id=\"line2d_43\">\n    <g clip-path=\"url(#p44138d8292)\">\n     <use style=\"stroke:#000000;\" x=\"52.025959\" xlink:href=\"#ma9f7aeeb30\" y=\"643.352096\"/>\n    </g>\n   </g>\n   <g id=\"line2d_44\">\n    <g clip-path=\"url(#p44138d8292)\"/>\n   </g>\n   <g id=\"line2d_45\">\n    <g clip-path=\"url(#p44138d8292)\">\n     <use style=\"stroke:#000000;\" x=\"253.490358\" xlink:href=\"#ma9f7aeeb30\" y=\"54.556144\"/>\n    </g>\n   </g>\n   <g id=\"line2d_46\">\n    <g clip-path=\"url(#p44138d8292)\">\n     <use style=\"stroke:#000000;\" x=\"76.939781\" xlink:href=\"#ma9f7aeeb30\" y=\"570.539442\"/>\n    </g>\n   </g>\n   <g id=\"line2d_47\">\n    <g clip-path=\"url(#p44138d8292)\">\n     <use style=\"stroke:#000000;\" x=\"254.078784\" xlink:href=\"#ma9f7aeeb30\" y=\"52.836422\"/>\n    </g>\n   </g>\n   <g id=\"line2d_48\">\n    <g clip-path=\"url(#p44138d8292)\">\n     <use style=\"stroke:#000000;\" x=\"59.430495\" xlink:href=\"#ma9f7aeeb30\" y=\"621.711742\"/>\n    </g>\n   </g>\n   <g id=\"line2d_49\">\n    <g clip-path=\"url(#p44138d8292)\">\n     <use style=\"stroke:#000000;\" x=\"142.120393\" xlink:href=\"#ma9f7aeeb30\" y=\"380.043846\"/>\n    </g>\n   </g>\n   <g id=\"line2d_50\">\n    <g clip-path=\"url(#p44138d8292)\">\n     <use style=\"stroke:#000000;\" x=\"233.587063\" xlink:href=\"#ma9f7aeeb30\" y=\"112.725128\"/>\n    </g>\n   </g>\n   <g id=\"line2d_51\">\n    <g clip-path=\"url(#p44138d8292)\"/>\n   </g>\n   <g id=\"line2d_52\">\n    <g clip-path=\"url(#p44138d8292)\"/>\n   </g>\n   <g id=\"line2d_53\">\n    <g clip-path=\"url(#p44138d8292)\"/>\n   </g>\n   <g id=\"line2d_54\">\n    <g clip-path=\"url(#p44138d8292)\">\n     <use style=\"stroke:#000000;\" x=\"167.301557\" xlink:href=\"#ma9f7aeeb30\" y=\"306.449866\"/>\n    </g>\n   </g>\n   <g id=\"line2d_55\">\n    <g clip-path=\"url(#p44138d8292)\">\n     <use style=\"stroke:#000000;\" x=\"53.745128\" xlink:href=\"#ma9f7aeeb30\" y=\"638.327686\"/>\n    </g>\n   </g>\n   <g id=\"line2d_56\">\n    <g clip-path=\"url(#p44138d8292)\">\n     <use style=\"stroke:#000000;\" x=\"113.985297\" xlink:href=\"#ma9f7aeeb30\" y=\"462.270936\"/>\n    </g>\n   </g>\n   <g id=\"line2d_57\">\n    <g clip-path=\"url(#p44138d8292)\"/>\n   </g>\n   <g id=\"line2d_58\">\n    <g clip-path=\"url(#p44138d8292)\"/>\n   </g>\n   <g id=\"line2d_59\">\n    <g clip-path=\"url(#p44138d8292)\">\n     <use style=\"stroke:#000000;\" x=\"242.077795\" xlink:href=\"#ma9f7aeeb30\" y=\"87.910278\"/>\n    </g>\n   </g>\n   <g id=\"line2d_60\">\n    <g clip-path=\"url(#p44138d8292)\">\n     <use style=\"stroke:#000000;\" x=\"211.070103\" xlink:href=\"#ma9f7aeeb30\" y=\"178.532759\"/>\n    </g>\n   </g>\n   <g id=\"line2d_61\">\n    <g clip-path=\"url(#p44138d8292)\">\n     <use style=\"stroke:#000000;\" x=\"50.056148\" xlink:href=\"#ma9f7aeeb30\" y=\"649.109028\"/>\n    </g>\n   </g>\n   <g id=\"line2d_62\">\n    <g clip-path=\"url(#p44138d8292)\">\n     <use style=\"stroke:#000000;\" x=\"98.389621\" xlink:href=\"#ma9f7aeeb30\" y=\"507.850556\"/>\n    </g>\n   </g>\n   <g id=\"line2d_63\">\n    <g clip-path=\"url(#p44138d8292)\">\n     <use style=\"stroke:#000000;\" x=\"47.9394\" xlink:href=\"#ma9f7aeeb30\" y=\"655.295393\"/>\n    </g>\n   </g>\n   <g id=\"line2d_64\">\n    <g clip-path=\"url(#p44138d8292)\"/>\n   </g>\n   <g id=\"line2d_65\">\n    <g clip-path=\"url(#p44138d8292)\"/>\n   </g>\n   <g id=\"line2d_66\">\n    <g clip-path=\"url(#p44138d8292)\">\n     <use style=\"stroke:#000000;\" x=\"80.565085\" xlink:href=\"#ma9f7aeeb30\" y=\"559.9442\"/>\n    </g>\n   </g>\n   <g id=\"line2d_67\">\n    <g clip-path=\"url(#p44138d8292)\">\n     <use style=\"stroke:#000000;\" x=\"269.902753\" xlink:href=\"#ma9f7aeeb30\" y=\"6.589597\"/>\n    </g>\n   </g>\n   <g id=\"line2d_68\">\n    <g clip-path=\"url(#p44138d8292)\">\n     <use style=\"stroke:#000000;\" x=\"255.741033\" xlink:href=\"#ma9f7aeeb30\" y=\"47.978365\"/>\n    </g>\n   </g>\n   <g id=\"line2d_69\">\n    <g clip-path=\"url(#p44138d8292)\">\n     <use style=\"stroke:#000000;\" x=\"36.080916\" xlink:href=\"#ma9f7aeeb30\" y=\"689.952771\"/>\n    </g>\n   </g>\n   <g id=\"line2d_70\">\n    <g clip-path=\"url(#p44138d8292)\">\n     <use style=\"stroke:#000000;\" x=\"172.868203\" xlink:href=\"#ma9f7aeeb30\" y=\"290.180894\"/>\n    </g>\n   </g>\n   <g id=\"line2d_71\">\n    <g clip-path=\"url(#p44138d8292)\">\n     <use style=\"stroke:#000000;\" x=\"171.270079\" xlink:href=\"#ma9f7aeeb30\" y=\"294.85154\"/>\n    </g>\n   </g>\n   <g id=\"line2d_72\">\n    <g clip-path=\"url(#p44138d8292)\">\n     <use style=\"stroke:#000000;\" x=\"219.659049\" xlink:href=\"#ma9f7aeeb30\" y=\"153.430871\"/>\n    </g>\n   </g>\n   <g id=\"line2d_73\">\n    <g clip-path=\"url(#p44138d8292)\">\n     <use style=\"stroke:#000000;\" x=\"172.345896\" xlink:href=\"#ma9f7aeeb30\" y=\"291.707377\"/>\n    </g>\n   </g>\n   <g id=\"line2d_74\">\n    <g clip-path=\"url(#p44138d8292)\">\n     <use style=\"stroke:#000000;\" x=\"153.938589\" xlink:href=\"#ma9f7aeeb30\" y=\"345.504215\"/>\n    </g>\n   </g>\n   <g id=\"line2d_75\">\n    <g clip-path=\"url(#p44138d8292)\">\n     <use style=\"stroke:#000000;\" x=\"188.306155\" xlink:href=\"#ma9f7aeeb30\" y=\"245.062235\"/>\n    </g>\n   </g>\n   <g id=\"line2d_76\">\n    <g clip-path=\"url(#p44138d8292)\">\n     <use style=\"stroke:#000000;\" x=\"175.207405\" xlink:href=\"#ma9f7aeeb30\" y=\"283.344387\"/>\n    </g>\n   </g>\n   <g id=\"line2d_77\">\n    <g clip-path=\"url(#p44138d8292)\">\n     <use style=\"stroke:#000000;\" x=\"173.194967\" xlink:href=\"#ma9f7aeeb30\" y=\"289.225898\"/>\n    </g>\n   </g>\n   <g id=\"line2d_78\">\n    <g clip-path=\"url(#p44138d8292)\"/>\n   </g>\n   <g id=\"line2d_79\">\n    <g clip-path=\"url(#p44138d8292)\">\n     <use style=\"stroke:#000000;\" x=\"162.146771\" xlink:href=\"#ma9f7aeeb30\" y=\"321.515143\"/>\n    </g>\n   </g>\n   <g id=\"line2d_80\">\n    <g clip-path=\"url(#p44138d8292)\">\n     <use style=\"stroke:#000000;\" x=\"261.183757\" xlink:href=\"#ma9f7aeeb30\" y=\"32.071564\"/>\n    </g>\n   </g>\n   <g id=\"line2d_81\">\n    <g clip-path=\"url(#p44138d8292)\"/>\n   </g>\n   <g id=\"line2d_82\">\n    <g clip-path=\"url(#p44138d8292)\">\n     <use style=\"stroke:#000000;\" x=\"54.756319\" xlink:href=\"#ma9f7aeeb30\" y=\"635.372398\"/>\n    </g>\n   </g>\n   <g id=\"line2d_83\">\n    <g clip-path=\"url(#p44138d8292)\">\n     <use style=\"stroke:#000000;\" x=\"146.119877\" xlink:href=\"#ma9f7aeeb30\" y=\"368.355034\"/>\n    </g>\n   </g>\n   <g id=\"line2d_84\">\n    <g clip-path=\"url(#p44138d8292)\">\n     <use style=\"stroke:#000000;\" x=\"203.097077\" xlink:href=\"#ma9f7aeeb30\" y=\"201.834572\"/>\n    </g>\n   </g>\n   <g id=\"line2d_85\">\n    <g clip-path=\"url(#p44138d8292)\">\n     <use style=\"stroke:#000000;\" x=\"191.19701\" xlink:href=\"#ma9f7aeeb30\" y=\"236.613476\"/>\n    </g>\n   </g>\n   <g id=\"line2d_86\">\n    <g clip-path=\"url(#p44138d8292)\"/>\n   </g>\n   <g id=\"line2d_87\">\n    <g clip-path=\"url(#p44138d8292)\"/>\n   </g>\n   <g id=\"line2d_88\">\n    <g clip-path=\"url(#p44138d8292)\">\n     <use style=\"stroke:#000000;\" x=\"222.247137\" xlink:href=\"#ma9f7aeeb30\" y=\"145.866976\"/>\n    </g>\n   </g>\n   <g id=\"line2d_89\">\n    <g clip-path=\"url(#p44138d8292)\">\n     <use style=\"stroke:#000000;\" x=\"143.537335\" xlink:href=\"#ma9f7aeeb30\" y=\"375.902719\"/>\n    </g>\n   </g>\n   <g id=\"line2d_90\">\n    <g clip-path=\"url(#p44138d8292)\">\n     <use style=\"stroke:#000000;\" x=\"166.144084\" xlink:href=\"#ma9f7aeeb30\" y=\"309.832672\"/>\n    </g>\n   </g>\n   <g id=\"line2d_91\">\n    <g clip-path=\"url(#p44138d8292)\">\n     <use style=\"stroke:#000000;\" x=\"123.430021\" xlink:href=\"#ma9f7aeeb30\" y=\"434.667967\"/>\n    </g>\n   </g>\n   <g id=\"line2d_92\">\n    <g clip-path=\"url(#p44138d8292)\">\n     <use style=\"stroke:#000000;\" x=\"53.583607\" xlink:href=\"#ma9f7aeeb30\" y=\"638.799745\"/>\n    </g>\n   </g>\n   <g id=\"line2d_93\">\n    <g clip-path=\"url(#p44138d8292)\"/>\n   </g>\n   <g id=\"line2d_94\">\n    <g clip-path=\"url(#p44138d8292)\">\n     <use style=\"stroke:#000000;\" x=\"143.505407\" xlink:href=\"#ma9f7aeeb30\" y=\"375.996034\"/>\n    </g>\n   </g>\n   <g id=\"line2d_95\">\n    <g clip-path=\"url(#p44138d8292)\">\n     <use style=\"stroke:#000000;\" x=\"112.538468\" xlink:href=\"#ma9f7aeeb30\" y=\"466.499408\"/>\n    </g>\n   </g>\n   <g id=\"line2d_96\">\n    <g clip-path=\"url(#p44138d8292)\">\n     <use style=\"stroke:#000000;\" x=\"249.640158\" xlink:href=\"#ma9f7aeeb30\" y=\"65.808664\"/>\n    </g>\n   </g>\n   <g id=\"line2d_97\">\n    <g clip-path=\"url(#p44138d8292)\"/>\n   </g>\n   <g id=\"line2d_98\">\n    <g clip-path=\"url(#p44138d8292)\">\n     <use style=\"stroke:#000000;\" x=\"115.441069\" xlink:href=\"#ma9f7aeeb30\" y=\"458.016322\"/>\n    </g>\n   </g>\n   <g id=\"line2d_99\">\n    <g clip-path=\"url(#p44138d8292)\">\n     <use style=\"stroke:#000000;\" x=\"65.430938\" xlink:href=\"#ma9f7aeeb30\" y=\"604.174965\"/>\n    </g>\n   </g>\n   <g id=\"line2d_100\">\n    <g clip-path=\"url(#p44138d8292)\">\n     <use style=\"stroke:#000000;\" x=\"187.243298\" xlink:href=\"#ma9f7aeeb30\" y=\"248.168517\"/>\n    </g>\n   </g>\n   <g id=\"line2d_101\">\n    <g clip-path=\"url(#p44138d8292)\"/>\n   </g>\n   <g id=\"line2d_102\">\n    <g clip-path=\"url(#p44138d8292)\"/>\n   </g>\n   <g id=\"line2d_103\">\n    <g clip-path=\"url(#p44138d8292)\">\n     <use style=\"stroke:#000000;\" x=\"109.018457\" xlink:href=\"#ma9f7aeeb30\" y=\"476.786926\"/>\n    </g>\n   </g>\n   <g id=\"line2d_104\">\n    <g clip-path=\"url(#p44138d8292)\">\n     <use style=\"stroke:#000000;\" x=\"41.444611\" xlink:href=\"#ma9f7aeeb30\" y=\"674.276941\"/>\n    </g>\n   </g>\n   <g id=\"line2d_105\">\n    <g clip-path=\"url(#p44138d8292)\">\n     <use style=\"stroke:#000000;\" x=\"251.909114\" xlink:href=\"#ma9f7aeeb30\" y=\"59.177455\"/>\n    </g>\n   </g>\n   <g id=\"line2d_106\">\n    <g clip-path=\"url(#p44138d8292)\">\n     <use style=\"stroke:#000000;\" x=\"66.40576\" xlink:href=\"#ma9f7aeeb30\" y=\"601.325968\"/>\n    </g>\n   </g>\n   <g id=\"line2d_107\">\n    <g clip-path=\"url(#p44138d8292)\">\n     <use style=\"stroke:#000000;\" x=\"60.937883\" xlink:href=\"#ma9f7aeeb30\" y=\"617.30628\"/>\n    </g>\n   </g>\n   <g id=\"line2d_108\">\n    <g clip-path=\"url(#p44138d8292)\">\n     <use style=\"stroke:#000000;\" x=\"267.554018\" xlink:href=\"#ma9f7aeeb30\" y=\"13.453962\"/>\n    </g>\n   </g>\n   <g id=\"line2d_109\">\n    <g clip-path=\"url(#p44138d8292)\"/>\n   </g>\n   <g id=\"line2d_110\">\n    <g clip-path=\"url(#p44138d8292)\"/>\n   </g>\n   <g id=\"line2d_111\">\n    <g clip-path=\"url(#p44138d8292)\">\n     <use style=\"stroke:#000000;\" x=\"151.79306\" xlink:href=\"#ma9f7aeeb30\" y=\"351.774697\"/>\n    </g>\n   </g>\n   <g id=\"line2d_112\">\n    <g clip-path=\"url(#p44138d8292)\">\n     <use style=\"stroke:#000000;\" x=\"209.306011\" xlink:href=\"#ma9f7aeeb30\" y=\"183.688461\"/>\n    </g>\n   </g>\n   <g id=\"line2d_113\">\n    <g clip-path=\"url(#p44138d8292)\">\n     <use style=\"stroke:#000000;\" x=\"55.519234\" xlink:href=\"#ma9f7aeeb30\" y=\"633.142719\"/>\n    </g>\n   </g>\n   <g id=\"line2d_114\">\n    <g clip-path=\"url(#p44138d8292)\">\n     <use style=\"stroke:#000000;\" x=\"196.657922\" xlink:href=\"#ma9f7aeeb30\" y=\"220.653522\"/>\n    </g>\n   </g>\n   <g id=\"line2d_115\">\n    <g clip-path=\"url(#p44138d8292)\">\n     <use style=\"stroke:#000000;\" x=\"144.29677\" xlink:href=\"#ma9f7aeeb30\" y=\"373.683211\"/>\n    </g>\n   </g>\n   <g id=\"line2d_116\">\n    <g clip-path=\"url(#p44138d8292)\">\n     <use style=\"stroke:#000000;\" x=\"117.680751\" xlink:href=\"#ma9f7aeeb30\" y=\"451.470673\"/>\n    </g>\n   </g>\n   <g id=\"line2d_117\">\n    <g clip-path=\"url(#p44138d8292)\"/>\n   </g>\n   <g id=\"line2d_118\">\n    <g clip-path=\"url(#p44138d8292)\">\n     <use style=\"stroke:#000000;\" x=\"89.340128\" xlink:href=\"#ma9f7aeeb30\" y=\"534.298428\"/>\n    </g>\n   </g>\n   <g id=\"line2d_119\">\n    <g clip-path=\"url(#p44138d8292)\">\n     <use style=\"stroke:#000000;\" x=\"154.410294\" xlink:href=\"#ma9f7aeeb30\" y=\"344.12562\"/>\n    </g>\n   </g>\n   <g id=\"line2d_120\">\n    <g clip-path=\"url(#p44138d8292)\"/>\n   </g>\n   <g id=\"line2d_121\">\n    <g clip-path=\"url(#p44138d8292)\">\n     <use style=\"stroke:#000000;\" x=\"93.977377\" xlink:href=\"#ma9f7aeeb30\" y=\"520.745695\"/>\n    </g>\n   </g>\n   <g id=\"line2d_122\">\n    <g clip-path=\"url(#p44138d8292)\">\n     <use style=\"stroke:#000000;\" x=\"123.280927\" xlink:href=\"#ma9f7aeeb30\" y=\"435.103705\"/>\n    </g>\n   </g>\n   <g id=\"line2d_123\">\n    <g clip-path=\"url(#p44138d8292)\">\n     <use style=\"stroke:#000000;\" x=\"207.422074\" xlink:href=\"#ma9f7aeeb30\" y=\"189.194418\"/>\n    </g>\n   </g>\n   <g id=\"line2d_124\">\n    <g clip-path=\"url(#p44138d8292)\"/>\n   </g>\n   <g id=\"line2d_125\">\n    <g clip-path=\"url(#p44138d8292)\">\n     <use style=\"stroke:#000000;\" x=\"119.982949\" xlink:href=\"#ma9f7aeeb30\" y=\"444.742314\"/>\n    </g>\n   </g>\n   <g id=\"line2d_126\">\n    <g clip-path=\"url(#p44138d8292)\">\n     <use style=\"stroke:#000000;\" x=\"143.274416\" xlink:href=\"#ma9f7aeeb30\" y=\"376.671121\"/>\n    </g>\n   </g>\n   <g id=\"line2d_127\">\n    <g clip-path=\"url(#p44138d8292)\">\n     <use style=\"stroke:#000000;\" x=\"227.390579\" xlink:href=\"#ma9f7aeeb30\" y=\"130.834852\"/>\n    </g>\n   </g>\n   <g id=\"line2d_128\">\n    <g clip-path=\"url(#p44138d8292)\">\n     <use style=\"stroke:#000000;\" x=\"106.684201\" xlink:href=\"#ma9f7aeeb30\" y=\"483.608977\"/>\n    </g>\n   </g>\n   <g id=\"patch_3\">\n    <path d=\"M 34.839063 367.422187 \nL 34.839063 41.262187 \n\" style=\"fill:none;stroke:#000000;stroke-linecap:square;stroke-linejoin:miter;stroke-width:0.8;\"/>\n   </g>\n   <g id=\"patch_4\">\n    <path d=\"M 369.639063 367.422187 \nL 369.639063 41.262187 \n\" style=\"fill:none;stroke:#000000;stroke-linecap:square;stroke-linejoin:miter;stroke-width:0.8;\"/>\n   </g>\n   <g id=\"patch_5\">\n    <path d=\"M 34.839063 367.422187 \nL 369.639063 367.422187 \n\" style=\"fill:none;stroke:#000000;stroke-linecap:square;stroke-linejoin:miter;stroke-width:0.8;\"/>\n   </g>\n   <g id=\"patch_6\">\n    <path d=\"M 34.839063 41.262187 \nL 369.639063 41.262187 \n\" style=\"fill:none;stroke:#000000;stroke-linecap:square;stroke-linejoin:miter;stroke-width:0.8;\"/>\n   </g>\n   <g id=\"text_15\">\n    <!-- A) -->\n    <defs>\n     <path d=\"M 53.421875 13.28125 \nL 24.03125 13.28125 \nL 19.390625 0 \nL 0.484375 0 \nL 27.484375 72.90625 \nL 49.90625 72.90625 \nL 76.90625 0 \nL 58.015625 0 \nz\nM 28.71875 26.8125 \nL 48.6875 26.8125 \nL 38.71875 55.8125 \nz\n\" id=\"DejaVuSans-Bold-65\"/>\n     <path d=\"M 8.015625 -13.1875 \nQ 14.265625 -1.5625 17.390625 9.515625 \nQ 20.515625 20.609375 20.515625 31.390625 \nQ 20.515625 42.1875 17.390625 53.25 \nQ 14.265625 64.3125 8.015625 75.875 \nL 22.515625 75.875 \nQ 29.9375 63.921875 33.515625 52.953125 \nQ 37.109375 42 37.109375 31.296875 \nQ 37.109375 20.609375 33.546875 9.734375 \nQ 29.984375 -1.125 22.515625 -13.1875 \nz\n\" id=\"DejaVuSans-Bold-41\"/>\n    </defs>\n    <g transform=\"translate(13.914062 20.877187)scale(0.18 -0.18)\">\n     <use xlink:href=\"#DejaVuSans-Bold-65\"/>\n     <use x=\"77.392578\" xlink:href=\"#DejaVuSans-Bold-41\"/>\n    </g>\n   </g>\n  </g>\n </g>\n <defs>\n  <clipPath id=\"p44138d8292\">\n   <rect height=\"326.16\" width=\"334.8\" x=\"34.839063\" y=\"41.262187\"/>\n  </clipPath>\n </defs>\n</svg>\n"
     },
     "metadata": {
      "needs_background": "light"
     }
    }
   ]
  },
  {
   "cell_type": "code",
   "source": [
    "import plotly.graph_objects as go\n",
    "\n",
    "# two vectors in R3\n",
    "v1 = np.array([ 3,5,1 ])\n",
    "v2 = np.array([ 0,2,2 ])\n",
    "\n",
    "## uncomment the lines below for the second part\n",
    "# v1 = np.array([ 3.0,5.0,1.0 ])\n",
    "# v2 = np.array([ 1.5,2.5,0.5 ])\n",
    "\n",
    "\n",
    "# random scalars in the x-axis range\n",
    "scalars = np.random.uniform(low=xlim[0],high=xlim[1],size=(100,2))\n",
    "\n",
    "\n",
    "\n",
    "# create random points\n",
    "points = np.zeros((100,3))\n",
    "for i in range(len(scalars)):\n",
    "\n",
    "  # define this point as a random weighted combination of the two vectors\n",
    "  points[i,:] = v1*scalars[i,0] + v2*scalars[i,1]\n",
    "\n",
    "\n",
    "# draw the dots in the plane\n",
    "fig = go.Figure( data=[go.Scatter3d(x=points[:,0], y=points[:,1], z=points[:,2], \n",
    "                                    mode='markers', marker=dict(size=6,color='black') )])\n",
    "\n",
    "fig.update_layout(margin=dict(l=0,r=0,b=0,t=0))\n",
    "plt.savefig('Figure_02_07b.png',dpi=300)\n",
    "fig.show()"
   ],
   "metadata": {
    "id": "Hm8ml4FcuRmA",
    "colab": {
     "base_uri": "https://localhost:8080/",
     "height": 584
    },
    "executionInfo": {
     "status": "ok",
     "timestamp": 1676510040155,
     "user_tz": -540,
     "elapsed": 736,
     "user": {
      "displayName": "Mike X Cohen",
      "userId": "13901636194183843661"
     }
    },
    "outputId": "0f59daf5-05bd-4f40-e89f-27279a62479d"
   },
   "execution_count": 7,
   "outputs": [
    {
     "output_type": "display_data",
     "data": {
      "text/html": [
       "<iframe\n",
       "    scrolling=\"no\"\n",
       "    width=\"100%\"\n",
       "    height=\"545px\"\n",
       "    src=\"iframe_figures/figure_7.html\"\n",
       "    frameborder=\"0\"\n",
       "    allowfullscreen\n",
       "></iframe>\n"
      ]
     },
     "metadata": {}
    },
    {
     "output_type": "display_data",
     "data": {
      "text/plain": [
       "<Figure size 432x288 with 0 Axes>"
      ]
     },
     "metadata": {}
    }
   ]
  },
  {
   "cell_type": "code",
   "source": [],
   "metadata": {
    "id": "HEiCXk6gYJRD"
   },
   "execution_count": null,
   "outputs": []
  }
 ]
}
